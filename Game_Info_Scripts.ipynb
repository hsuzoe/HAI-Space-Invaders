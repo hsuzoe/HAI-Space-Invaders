{
 "metadata": {
  "language_info": {
   "codemirror_mode": {
    "name": "ipython",
    "version": 3
   },
   "file_extension": ".py",
   "mimetype": "text/x-python",
   "name": "python",
   "nbconvert_exporter": "python",
   "pygments_lexer": "ipython3",
   "version": "3.9.5"
  },
  "orig_nbformat": 2,
  "kernelspec": {
   "name": "python3",
   "display_name": "Python 3.9.5 64-bit"
  },
  "metadata": {
   "interpreter": {
    "hash": "aee8b7b246df8f9039afb4144a1f6fd8d2ca17a180786b69acc140d282b71a49"
   }
  },
  "interpreter": {
   "hash": "aee8b7b246df8f9039afb4144a1f6fd8d2ca17a180786b69acc140d282b71a49"
  }
 },
 "nbformat": 4,
 "nbformat_minor": 2,
 "cells": [
  {
   "cell_type": "code",
   "execution_count": 33,
   "source": [
    "import json\n",
    "import os\n",
    "import re\n",
    "import numpy as np \n",
    "import pathlib as pb\n",
    "import pandas as pd\n",
    "import matplotlib.pyplot as plt \n",
    "import scipy.stats as stats \n",
    "import seaborn as sns\n",
    "from scipy.stats import f_oneway\n",
    "from pathlib import Path\n",
    "from statannot import add_stat_annotation\n"
   ],
   "outputs": [],
   "metadata": {}
  },
  {
   "cell_type": "code",
   "execution_count": 34,
   "source": [
    "# Returns the specific frames where the participant was on the right side, number of times participant went to right side, total number of frames where the participant was on the right side, and whether participant was still on the right side at the end of the game\n",
    "\n",
    "def right_side(json_file):\n",
    "    new_list = \" \"\n",
    "    on_other_side = False\n",
    "    start_frame = 0\n",
    "    end_frame = 0\n",
    "    total_frames = 0\n",
    "    still_on_other_side = False\n",
    "    frames = json_file['frames']\n",
    "    right_side_times = 0\n",
    "    ai_alive = True\n",
    "    participant_alive = True\n",
    "    ai_died = 0\n",
    "    participant_died = 0\n",
    "    for frame in frames:\n",
    "        if frame['player_position'] > 400 and on_other_side == False:\n",
    "            start_frame = frame['frame_number']\n",
    "            on_other_side = True\n",
    "        if frame['player_position'] < 400 and on_other_side == True:\n",
    "            on_other_side = False\n",
    "            end_frame = frame['frame_number']\n",
    "            new_list += str({'start_frame': start_frame, 'end_frame': end_frame}) \n",
    "            new_list += ', '\n",
    "            total_frames = total_frames + (end_frame - start_frame)\n",
    "            right_side_times += 1\n",
    "        if frame['ai_lives'] == 0 and ai_alive == True:\n",
    "            ai_died = frame['frame_number']\n",
    "            ai_alive = False\n",
    "        if frame['player_lives'] == 0 and participant_alive == True:\n",
    "            participant_died = frame['frame_number']\n",
    "            participant_alive = False\n",
    "    if (on_other_side):\n",
    "        end_frame = frame['frame_number']\n",
    "        right_side_times += 1\n",
    "        new_list += str({'start_frame': start_frame, 'end_frame': end_frame})\n",
    "        new_list += ', '\n",
    "        total_frames = total_frames + (end_frame - start_frame)\n",
    "    final_ai_score = frame['ai_score']\n",
    "    final_part_score = frame['player_score']\n",
    "    total_score = final_ai_score + final_part_score\n",
    "    final_ai_lives = frame['ai_lives']\n",
    "    final_part_lives = frame['player_lives']\n",
    "    percentage_of_game_played = (participant_died / frame['frame_number']) * 100\n",
    "    return {'Participant Visits': new_list, 'Participant Number of Visits': right_side_times,'Participant Total Frames on Right Side': total_frames, 'Final AI Score': final_ai_score, 'Final Participant Score': final_part_score, 'Total Score':total_score, 'Final AI Lives' : final_ai_lives, 'Final Participant Lives': final_part_lives, 'Frame of Participant Death (0 if not completely dead)': participant_died, 'Frame of AI Death (0 if not completely dead)': ai_died, 'Percentage of Game Played (0 if not completely dead)': percentage_of_game_played}"
   ],
   "outputs": [],
   "metadata": {
    "tags": []
   }
  },
  {
   "cell_type": "code",
   "execution_count": 35,
   "source": [
    "# Returns the specific frames where the coplayer was on the left side, number of times coplayer went to left side, total number of frames where the coplayer was on the left side, and whether coplayer was still on the left side at the end of the game\n",
    "\n",
    "def left_side(json_file):\n",
    "    new_list = \" \"\n",
    "    on_other_side = False\n",
    "    start_frame = 0\n",
    "    end_frame = 0\n",
    "    total_frames = 0\n",
    "    end_frame_number = 0\n",
    "    still_on_other_side = False\n",
    "    frames = json_file['frames']\n",
    "    left_side_times = 0\n",
    "    for frame in frames:\n",
    "        if frame['ai_position'] < 400 and on_other_side == False: #if AI is on the left side\n",
    "            start_frame = frame['frame_number']\n",
    "            on_other_side = True\n",
    "        elif frame['ai_position'] > 400 and on_other_side == True: #if AI moves back to the right side\n",
    "            on_other_side = False\n",
    "            end_frame = frame['frame_number']\n",
    "            new_list += str({'start_frame': start_frame, 'end_frame': end_frame}) \n",
    "            new_list += ', '            \n",
    "            total_frames = total_frames + (end_frame - start_frame)\n",
    "            left_side_times += 1\n",
    "    if (on_other_side):\n",
    "        end_frame = frame['frame_number']\n",
    "        left_side_times += 1\n",
    "        new_list += str({'start_frame': start_frame, 'end_frame': end_frame})\n",
    "        new_list += ', '\n",
    "        total_frames = total_frames + (end_frame - start_frame)\n",
    "    end_frame_number = frame['frame_number']\n",
    "    return {'Co-player Visits': new_list, 'Co-player Number of Visits': left_side_times, 'Co-player Total Frames on Left Side': total_frames, 'End Frame':end_frame_number}"
   ],
   "outputs": [],
   "metadata": {}
  },
  {
   "cell_type": "code",
   "execution_count": 36,
   "source": [
    "def part_enemies_count(json_file):\n",
    "    participant_count = 0\n",
    "    events = json_file['events']\n",
    "    for event in events:\n",
    "        if event['killer'] == 'PLAYER' and event['killed'] == 'RIGHT':\n",
    "            participant_count += 1\n",
    "    return participant_count\n"
   ],
   "outputs": [],
   "metadata": {}
  },
  {
   "cell_type": "code",
   "execution_count": 37,
   "source": [
    "def co_enemies_count(json_file):\n",
    "    coplayer_count = 0\n",
    "    events = json_file['events']\n",
    "    for event in events:\n",
    "        if event['killer'] == 'AI' and event['killed'] == 'LEFT':\n",
    "            coplayer_count += 1\n",
    "    return coplayer_count\n"
   ],
   "outputs": [],
   "metadata": {}
  },
  {
   "cell_type": "code",
   "execution_count": 28,
   "source": [
    "path_name = \"/Users/zoehsu/Desktop/STARS/FINAL DATA/game_logs\"\n",
    "folder = os.listdir(path_name)\n",
    "complete_chart = []\n",
    "for file in folder:\n",
    "  if file != \".DS_Store\":\n",
    "    file = f\"{path_name}/{file}\" #have to do this because you're in a diff directory\n",
    "    with open(file, encoding='windows-1252', mode='r') as file:\n",
    "      data = json.load(file)\n",
    "      participant_enemies_count = part_enemies_count(data)\n",
    "      coplayer_enemies_count = co_enemies_count(data)\n",
    "      right_side_info = right_side(data)\n",
    "      left_side_info = left_side(data)\n",
    "      right_side_info.update(left_side_info)\n",
    "      right_side_info.update({\"Enemies killed by participant\": participant_enemies_count})\n",
    "      right_side_info.update({\"Enemies killed by coplayer\": coplayer_enemies_count})\n",
    "      right_side_info.update({\"Participant ID\":Path(file.name).stem.split(\"_\")[0][1:]})\n",
    "      right_side_info.update({\"File name\":Path(file.name).stem + '.json'})\n",
    "      complete_chart.append(right_side_info)\n",
    "      if 'voff_m1' in Path(file.name).stem:\n",
    "        right_side_info.update({\"Mode\" : 1 })\n",
    "      elif 'voff_m2' in Path(file.name).stem:\n",
    "        right_side_info.update({\"Mode\" : 2 })\n",
    "df = pd.DataFrame(complete_chart)\n",
    "df.to_csv (r'/Users/zoehsu/Desktop/alldata.csv', index = True, header=True)"
   ],
   "outputs": [],
   "metadata": {
    "tags": []
   }
  },
  {
   "cell_type": "code",
   "execution_count": 29,
   "source": [
    "full_data = pd.read_csv('/Users/zoehsu/Desktop/alldata.csv')"
   ],
   "outputs": [],
   "metadata": {}
  },
  {
   "cell_type": "code",
   "execution_count": 30,
   "source": [
    "expz_data = pd.read_csv('/Users/zoehsu/Desktop/STARS/FINAL DATA/ExpZ_ Participants - ParticipantRecords.csv')\n",
    "qualtrics_data = pd.read_csv('/Users/zoehsu/Desktop/STARS/FINAL DATA/ExpZ_Qualtrics_07152021_180p_stacked.xlsx - Used.csv')\n",
    "\n",
    "# Combining ExpZ data with Qualtrics data\n",
    "expz_qual_dataframe = pd.merge(expz_data, qualtrics_data, left_on='Prolific ID', right_on='PROLIFIC_PID') \n",
    "\n",
    "# Creating dataframe with Mode 1 participants\n",
    "mode1_grouped = full_data.groupby('Mode')\n",
    "mode1_data = mode1_grouped.get_group(1)\n",
    "\n",
    "# Creating dataframe with Mode 2 participants\n",
    "mode2_grouped = full_data.groupby('Mode')\n",
    "mode2_data = mode2_grouped.get_group(2)\n",
    "\n",
    "# Combining ExpZ&Qualtrics data with Mode 1 data\n",
    "semifinal_dataframe = pd.merge(expz_qual_dataframe, mode1_data, left_on='Prolific ID', right_on='Participant ID') \n",
    "\n",
    "# Combining ExpZ&Qualtrics&Mode1 with Mode 2 data\n",
    "new_dataframe = pd.merge(semifinal_dataframe, mode2_data, left_on='Prolific ID', right_on='Participant ID') \n",
    "new_dataframe.rename(columns={\"Group_x\":\"Group\"}, inplace = True) # Renaming group_x to group\n",
    "\n",
    "# replacing group #s with group identity names\n",
    "new_dataframe[\"Group\"].replace({1:\"AI\", 2:\"Human\", 4: \"Computer\"}, inplace = True)\n",
    "\n",
    "# Creating the master spreadsheet\n",
    "new_dataframe.to_csv (r'/Users/zoehsu/Desktop/FINAL.csv', index = True, header=True)\n"
   ],
   "outputs": [],
   "metadata": {}
  },
  {
   "cell_type": "code",
   "execution_count": 31,
   "source": [
    "#Exclusion Criteria\n",
    "\n",
    "enemies_exclusion = new_dataframe[ (new_dataframe[\"Enemies killed by coplayer_x\"] == 0) & (new_dataframe[\"First\"] == 'Early')]"
   ],
   "outputs": [],
   "metadata": {}
  },
  {
   "cell_type": "code",
   "execution_count": 32,
   "source": [
    "#Exclusion Criteria\n",
    "enemies_exclusion_early2nd = new_dataframe[ (new_dataframe[\"Enemies killed by coplayer_x\"] == 0) & (new_dataframe[\"First\"] == 'Late')]\n"
   ],
   "outputs": [],
   "metadata": {}
  }
 ]
}